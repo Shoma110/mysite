{
 "cells": [
  {
   "cell_type": "code",
   "execution_count": 1,
   "metadata": {},
   "outputs": [],
   "source": [
    "import numpy as np\n",
    "import pandas as pd"
   ]
  },
  {
   "cell_type": "code",
   "execution_count": 11,
   "metadata": {},
   "outputs": [],
   "source": [
    "A=[[2,9,8,7,2,5],\n",
    "   [2,8,3,1,9,4],\n",
    "   [3,10,2,3,8,5],\n",
    "   [1,9,7,8,2,5]]"
   ]
  },
  {
   "cell_type": "code",
   "execution_count": 12,
   "metadata": {},
   "outputs": [
    {
     "data": {
      "text/plain": [
       "array([[ 2,  9,  8,  7,  2,  5],\n",
       "       [ 2,  8,  3,  1,  9,  4],\n",
       "       [ 3, 10,  2,  3,  8,  5],\n",
       "       [ 1,  9,  7,  8,  2,  5]])"
      ]
     },
     "execution_count": 12,
     "metadata": {},
     "output_type": "execute_result"
    }
   ],
   "source": [
    "np.array(A)"
   ]
  },
  {
   "cell_type": "code",
   "execution_count": 19,
   "metadata": {},
   "outputs": [
    {
     "data": {
      "text/plain": [
       "array([[ 9.1       , -0.7       ,  0.7       ,  9.6       ],\n",
       "       [-0.7       , 10.7       ,  9.5       , -0.6       ],\n",
       "       [ 0.7       ,  9.5       , 10.16666667,  1.33333333],\n",
       "       [ 9.6       , -0.6       ,  1.33333333, 10.66666667]])"
      ]
     },
     "execution_count": 19,
     "metadata": {},
     "output_type": "execute_result"
    }
   ],
   "source": [
    "np.cov(A,ddof=1)"
   ]
  },
  {
   "cell_type": "code",
   "execution_count": 32,
   "metadata": {},
   "outputs": [
    {
     "name": "stdout",
     "output_type": "stream",
     "text": [
      "[[ 1.   -0.07  0.07  0.97]\n",
      " [-0.07  1.    0.91 -0.06]\n",
      " [ 0.07  0.91  1.    0.13]\n",
      " [ 0.97 -0.06  0.13  1.  ]]\n"
     ]
    }
   ],
   "source": [
    "corr=np.corrcoef(A)\n",
    "print(corr)"
   ]
  },
  {
   "cell_type": "code",
   "execution_count": 33,
   "metadata": {},
   "outputs": [
    {
     "name": "stdout",
     "output_type": "stream",
     "text": [
      "[[ 1.     -0.0709  0.0728  0.9744]\n",
      " [-0.0709  1.      0.9108 -0.0562]\n",
      " [ 0.0728  0.9108  1.      0.128 ]\n",
      " [ 0.9744 -0.0562  0.128   1.    ]]\n"
     ]
    }
   ],
   "source": [
    "np.set_printoptions(precision=4)\n",
    "print(corr)"
   ]
  },
  {
   "cell_type": "code",
   "execution_count": null,
   "metadata": {},
   "outputs": [],
   "source": []
  }
 ],
 "metadata": {
  "kernelspec": {
   "display_name": "Python 3",
   "language": "python",
   "name": "python3"
  },
  "language_info": {
   "codemirror_mode": {
    "name": "ipython",
    "version": 3
   },
   "file_extension": ".py",
   "mimetype": "text/x-python",
   "name": "python",
   "nbconvert_exporter": "python",
   "pygments_lexer": "ipython3",
   "version": "3.8.5"
  }
 },
 "nbformat": 4,
 "nbformat_minor": 4
}
